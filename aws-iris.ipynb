{
 "cells": [
  {
   "cell_type": "markdown",
   "id": "a4114de5",
   "metadata": {},
   "source": [
    "# data preparation"
   ]
  },
  {
   "cell_type": "code",
   "execution_count": 2,
   "id": "9c3da61d",
   "metadata": {},
   "outputs": [
    {
     "data": {
      "text/plain": [
       "('data.zip', <http.client.HTTPMessage at 0x7f61141b2170>)"
      ]
     },
     "execution_count": 2,
     "metadata": {},
     "output_type": "execute_result"
    }
   ],
   "source": [
    "# iris dataset\n",
    "# https://archive.ics.uci.edu/dataset/53/iris\n",
    "\n",
    "import urllib.request\n",
    "urllib.request.urlretrieve('https://archive.ics.uci.edu/static/public/53/iris.zip',\n",
    "                          'data.zip')"
   ]
  },
  {
   "cell_type": "code",
   "execution_count": 3,
   "id": "0ca74277",
   "metadata": {},
   "outputs": [
    {
     "name": "stdout",
     "output_type": "stream",
     "text": [
      "Archive:  data.zip\r\n",
      "  inflating: data/Index              \r\n",
      "  inflating: data/bezdekIris.data    \r\n",
      "  inflating: data/iris.data          \r\n",
      "  inflating: data/iris.names         \r\n"
     ]
    }
   ],
   "source": [
    "# unzip downloaded data\n",
    "!mkdir data\n",
    "!unzip data.zip -d data"
   ]
  },
  {
   "cell_type": "code",
   "execution_count": 4,
   "id": "35bb5eee",
   "metadata": {},
   "outputs": [
    {
     "name": "stdout",
     "output_type": "stream",
     "text": [
      "       0    1    2    3               4\n",
      "0    5.1  3.5  1.4  0.2     Iris-setosa\n",
      "1    4.9  3.0  1.4  0.2     Iris-setosa\n",
      "2    4.7  3.2  1.3  0.2     Iris-setosa\n",
      "3    4.6  3.1  1.5  0.2     Iris-setosa\n",
      "4    5.0  3.6  1.4  0.2     Iris-setosa\n",
      "..   ...  ...  ...  ...             ...\n",
      "145  6.7  3.0  5.2  2.3  Iris-virginica\n",
      "146  6.3  2.5  5.0  1.9  Iris-virginica\n",
      "147  6.5  3.0  5.2  2.0  Iris-virginica\n",
      "148  6.2  3.4  5.4  2.3  Iris-virginica\n",
      "149  5.9  3.0  5.1  1.8  Iris-virginica\n",
      "\n",
      "[150 rows x 5 columns]\n"
     ]
    }
   ],
   "source": [
    "import pandas as pd\n",
    "\n",
    "# read data\n",
    "data =pd.read_csv('data/iris.data', header=None)\n",
    "\n",
    "print(data)"
   ]
  },
  {
   "cell_type": "code",
   "execution_count": 5,
   "id": "6abb3f63",
   "metadata": {},
   "outputs": [
    {
     "name": "stdout",
     "output_type": "stream",
     "text": [
      "       0    1    2    3  4\n",
      "0    5.1  3.5  1.4  0.2  0\n",
      "1    4.9  3.0  1.4  0.2  0\n",
      "2    4.7  3.2  1.3  0.2  0\n",
      "3    4.6  3.1  1.5  0.2  0\n",
      "4    5.0  3.6  1.4  0.2  0\n",
      "..   ...  ...  ...  ... ..\n",
      "145  6.7  3.0  5.2  2.3  1\n",
      "146  6.3  2.5  5.0  1.9  1\n",
      "147  6.5  3.0  5.2  2.0  1\n",
      "148  6.2  3.4  5.4  2.3  1\n",
      "149  5.9  3.0  5.1  1.8  1\n",
      "\n",
      "[150 rows x 5 columns]\n"
     ]
    }
   ],
   "source": [
    "# convert to numerical values\n",
    "data[4] = data[4].replace('Iris-setosa', 0)\n",
    "data[4] = data[4].replace('Iris-virginica', 1)\n",
    "data[4] = data[4].replace('Iris-versicolor', 2)\n",
    "\n",
    "print(data)"
   ]
  },
  {
   "cell_type": "code",
   "execution_count": 6,
   "id": "bf57a7a5",
   "metadata": {},
   "outputs": [
    {
     "name": "stdout",
     "output_type": "stream",
     "text": [
      "       0    1    2    3  4\n",
      "0    6.1  2.8  4.0  1.3  2\n",
      "1    6.7  3.1  4.7  1.5  2\n",
      "2    5.6  3.0  4.5  1.5  2\n",
      "3    5.5  2.3  4.0  1.3  2\n",
      "4    5.6  2.5  3.9  1.1  2\n",
      "..   ...  ...  ...  ... ..\n",
      "145  6.9  3.1  5.4  2.1  1\n",
      "146  5.0  2.0  3.5  1.0  2\n",
      "147  6.4  2.9  4.3  1.3  2\n",
      "148  5.1  2.5  3.0  1.1  2\n",
      "149  6.8  2.8  4.8  1.4  2\n",
      "\n",
      "[150 rows x 5 columns]\n"
     ]
    }
   ],
   "source": [
    "# shuffle data\n",
    "data = data.sample(frac=1).reset_index(drop=True)\n",
    "\n",
    "print(data)"
   ]
  },
  {
   "cell_type": "code",
   "execution_count": 7,
   "id": "93a38b2e",
   "metadata": {},
   "outputs": [
    {
     "name": "stdout",
     "output_type": "stream",
     "text": [
      "     4    0    1    2    3\n",
      "0    2  6.1  2.8  4.0  1.3\n",
      "1    2  6.7  3.1  4.7  1.5\n",
      "2    2  5.6  3.0  4.5  1.5\n",
      "3    2  5.5  2.3  4.0  1.3\n",
      "4    2  5.6  2.5  3.9  1.1\n",
      "..  ..  ...  ...  ...  ...\n",
      "145  1  6.9  3.1  5.4  2.1\n",
      "146  2  5.0  2.0  3.5  1.0\n",
      "147  2  6.4  2.9  4.3  1.3\n",
      "148  2  5.1  2.5  3.0  1.1\n",
      "149  2  6.8  2.8  4.8  1.4\n",
      "\n",
      "[150 rows x 5 columns]\n"
     ]
    }
   ],
   "source": [
    "# change the label column index\n",
    "data = data[[4, 0, 1, 2, 3]]\n",
    "\n",
    "print(data)"
   ]
  },
  {
   "cell_type": "code",
   "execution_count": 9,
   "id": "2d0b416e",
   "metadata": {},
   "outputs": [],
   "source": [
    "# split into train and validation set\n",
    "train_data = data[:120]\n",
    "val_data = data[120:]"
   ]
  },
  {
   "cell_type": "markdown",
   "id": "2830b17a",
   "metadata": {},
   "source": [
    "# move data into s3 packet"
   ]
  },
  {
   "cell_type": "code",
   "execution_count": 11,
   "id": "74e0500b",
   "metadata": {},
   "outputs": [],
   "source": [
    "import boto3\n",
    "\n",
    "bucket_name = 'sagemaker-build-and-deploy1'\n",
    "\n",
    "train_data.to_csv('data.csv', header=False, index=False)\n",
    "key = 'data/train/data'\n",
    "url = 's3://{}/{}'.format(bucket_name, key)\n",
    "boto3.Session().resource('s3').Bucket(bucket_name).Object(key).upload_file('data.csv')\n",
    "\n",
    "val_data.to_csv('data.csv', header=False, index=False)\n",
    "key = 'data/val/data'\n",
    "url = 's3://{}/{}'.format(bucket_name, key)\n",
    "boto3.Session().resource('s3').Bucket(bucket_name).Object(key).upload_file('data.csv')"
   ]
  },
  {
   "cell_type": "markdown",
   "id": "0a400dff",
   "metadata": {},
   "source": [
    "# create model"
   ]
  },
  {
   "cell_type": "code",
   "execution_count": 15,
   "id": "be64512b",
   "metadata": {},
   "outputs": [
    {
     "name": "stderr",
     "output_type": "stream",
     "text": [
      "WARNING:sagemaker.deprecations:The method get_image_uri has been renamed in sagemaker>=2.\n",
      "See: https://sagemaker.readthedocs.io/en/stable/v2.html for details.\n",
      "INFO:sagemaker.image_uris:Ignoring unnecessary instance type: None.\n",
      "WARNING:sagemaker.deprecations:train_instance_count has been renamed in sagemaker>=2.\n",
      "See: https://sagemaker.readthedocs.io/en/stable/v2.html for details.\n",
      "WARNING:sagemaker.deprecations:train_instance_type has been renamed in sagemaker>=2.\n",
      "See: https://sagemaker.readthedocs.io/en/stable/v2.html for details.\n",
      "WARNING:sagemaker.deprecations:train_volume_size has been renamed in sagemaker>=2.\n",
      "See: https://sagemaker.readthedocs.io/en/stable/v2.html for details.\n"
     ]
    }
   ],
   "source": [
    "#create object to train the model\n",
    "\n",
    "import sagemaker\n",
    "from sagemaker.amazon.amazon_estimator import get_image_uri\n",
    "from sagemaker import get_execution_role\n",
    "\n",
    "key = 'model/xgb_model'\n",
    "s3_output_location = 's3://{}/{}'.format(bucket_name, key)\n",
    "\n",
    "xgb_model = sagemaker.estimator.Estimator(\n",
    "    get_image_uri(boto3.Session().region_name, 'xgboost'),\n",
    "    get_execution_role(),\n",
    "    train_instance_count=1,\n",
    "    train_instance_type='ml.m4.xlarge',\n",
    "    train_volume_size=5,\n",
    "    output_path=s3_output_location,\n",
    "    sagemaker_session=sagemaker.Session()\n",
    ")\n",
    "\n",
    "#aws documentation for xgboost hyperparameters\n",
    "# https://docs.aws.amazon.com/sagemaker/latest/dg/xgboost_hyperparameters.html\n",
    "xgb_model.set_hyperparameters(max_depth=5,\n",
    "                             eta=0.2,\n",
    "                             gamma=4,\n",
    "                             min_child_weight=6,\n",
    "                             silent=0,\n",
    "                             objective='multi:softmax',\n",
    "                             num_class=3,\n",
    "                             num_round=10)"
   ]
  },
  {
   "cell_type": "markdown",
   "id": "3d35078b",
   "metadata": {},
   "source": [
    "# train model"
   ]
  },
  {
   "cell_type": "code",
   "execution_count": 16,
   "id": "563b08b7",
   "metadata": {},
   "outputs": [
    {
     "name": "stderr",
     "output_type": "stream",
     "text": [
      "WARNING:sagemaker.deprecations:The class sagemaker.session.s3_input has been renamed in sagemaker>=2.\n",
      "See: https://sagemaker.readthedocs.io/en/stable/v2.html for details.\n",
      "WARNING:sagemaker.deprecations:The class sagemaker.session.s3_input has been renamed in sagemaker>=2.\n",
      "See: https://sagemaker.readthedocs.io/en/stable/v2.html for details.\n",
      "INFO:sagemaker:Creating training-job with name: xgboost-2024-10-26-09-14-38-448\n"
     ]
    },
    {
     "name": "stdout",
     "output_type": "stream",
     "text": [
      "2024-10-26 09:14:39 Starting - Starting the training job......\n",
      "2024-10-26 09:15:15 Starting - Preparing the instances for training......\n",
      "2024-10-26 09:16:30 Downloading - Downloading input data...\n",
      "2024-10-26 09:17:11 Downloading - Downloading the training image......\n",
      "2024-10-26 09:18:06 Training - Training image download completed. Training in progress...\u001b[34mArguments: train\u001b[0m\n",
      "\u001b[34m[2024-10-26:09:18:17:INFO] Running standalone xgboost training.\u001b[0m\n",
      "\u001b[34m[2024-10-26:09:18:17:INFO] File size need to be processed in the node: 0.0mb. Available memory size in the node: 8455.31mb\u001b[0m\n",
      "\u001b[34m[2024-10-26:09:18:17:INFO] Determined delimiter of CSV input is ','\u001b[0m\n",
      "\u001b[34m[09:18:17] S3DistributionType set as FullyReplicated\u001b[0m\n",
      "\u001b[34m[09:18:17] 120x4 matrix with 480 entries loaded from /opt/ml/input/data/train?format=csv&label_column=0&delimiter=,\u001b[0m\n",
      "\u001b[34m[2024-10-26:09:18:17:INFO] Determined delimiter of CSV input is ','\u001b[0m\n",
      "\u001b[34m[09:18:17] S3DistributionType set as FullyReplicated\u001b[0m\n",
      "\u001b[34m[09:18:17] 30x4 matrix with 120 entries loaded from /opt/ml/input/data/validation?format=csv&label_column=0&delimiter=,\u001b[0m\n",
      "\u001b[34m[09:18:17] src/tree/updater_prune.cc:74: tree pruning end, 1 roots, 2 extra nodes, 0 pruned nodes, max_depth=1\u001b[0m\n",
      "\u001b[34m[09:18:17] src/tree/updater_prune.cc:74: tree pruning end, 1 roots, 2 extra nodes, 2 pruned nodes, max_depth=1\u001b[0m\n",
      "\u001b[34m[09:18:17] src/tree/updater_prune.cc:74: tree pruning end, 1 roots, 4 extra nodes, 0 pruned nodes, max_depth=2\u001b[0m\n",
      "\u001b[34m[0]#011train-merror:0.041667#011validation-merror:0.033333\u001b[0m\n",
      "\u001b[34m[09:18:17] src/tree/updater_prune.cc:74: tree pruning end, 1 roots, 2 extra nodes, 0 pruned nodes, max_depth=1\u001b[0m\n",
      "\u001b[34m[09:18:17] src/tree/updater_prune.cc:74: tree pruning end, 1 roots, 2 extra nodes, 2 pruned nodes, max_depth=1\u001b[0m\n",
      "\u001b[34m[09:18:17] src/tree/updater_prune.cc:74: tree pruning end, 1 roots, 4 extra nodes, 2 pruned nodes, max_depth=2\u001b[0m\n",
      "\u001b[34m[1]#011train-merror:0.05#011validation-merror:0.033333\u001b[0m\n",
      "\u001b[34m[09:18:17] src/tree/updater_prune.cc:74: tree pruning end, 1 roots, 2 extra nodes, 0 pruned nodes, max_depth=1\u001b[0m\n",
      "\u001b[34m[09:18:17] src/tree/updater_prune.cc:74: tree pruning end, 1 roots, 2 extra nodes, 2 pruned nodes, max_depth=1\u001b[0m\n",
      "\u001b[34m[09:18:17] src/tree/updater_prune.cc:74: tree pruning end, 1 roots, 4 extra nodes, 2 pruned nodes, max_depth=2\u001b[0m\n",
      "\u001b[34m[2]#011train-merror:0.05#011validation-merror:0.033333\u001b[0m\n",
      "\u001b[34m[09:18:17] src/tree/updater_prune.cc:74: tree pruning end, 1 roots, 2 extra nodes, 0 pruned nodes, max_depth=1\u001b[0m\n",
      "\u001b[34m[09:18:17] src/tree/updater_prune.cc:74: tree pruning end, 1 roots, 2 extra nodes, 2 pruned nodes, max_depth=1\u001b[0m\n",
      "\u001b[34m[09:18:17] src/tree/updater_prune.cc:74: tree pruning end, 1 roots, 4 extra nodes, 2 pruned nodes, max_depth=2\u001b[0m\n",
      "\u001b[34m[3]#011train-merror:0.05#011validation-merror:0.033333\u001b[0m\n",
      "\u001b[34m[09:18:17] src/tree/updater_prune.cc:74: tree pruning end, 1 roots, 2 extra nodes, 0 pruned nodes, max_depth=1\u001b[0m\n",
      "\u001b[34m[09:18:17] src/tree/updater_prune.cc:74: tree pruning end, 1 roots, 2 extra nodes, 2 pruned nodes, max_depth=1\u001b[0m\n",
      "\u001b[34m[09:18:17] src/tree/updater_prune.cc:74: tree pruning end, 1 roots, 4 extra nodes, 2 pruned nodes, max_depth=2\u001b[0m\n",
      "\u001b[34m[4]#011train-merror:0.05#011validation-merror:0.033333\u001b[0m\n",
      "\u001b[34m[09:18:17] src/tree/updater_prune.cc:74: tree pruning end, 1 roots, 2 extra nodes, 0 pruned nodes, max_depth=1\u001b[0m\n",
      "\u001b[34m[09:18:17] src/tree/updater_prune.cc:74: tree pruning end, 1 roots, 2 extra nodes, 2 pruned nodes, max_depth=1\u001b[0m\n",
      "\u001b[34m[09:18:17] src/tree/updater_prune.cc:74: tree pruning end, 1 roots, 4 extra nodes, 2 pruned nodes, max_depth=2\u001b[0m\n",
      "\u001b[34m[5]#011train-merror:0.05#011validation-merror:0.033333\u001b[0m\n",
      "\u001b[34m[09:18:17] src/tree/updater_prune.cc:74: tree pruning end, 1 roots, 2 extra nodes, 0 pruned nodes, max_depth=1\u001b[0m\n",
      "\u001b[34m[09:18:17] src/tree/updater_prune.cc:74: tree pruning end, 1 roots, 2 extra nodes, 2 pruned nodes, max_depth=1\u001b[0m\n",
      "\u001b[34m[09:18:17] src/tree/updater_prune.cc:74: tree pruning end, 1 roots, 4 extra nodes, 2 pruned nodes, max_depth=2\u001b[0m\n",
      "\u001b[34m[6]#011train-merror:0.05#011validation-merror:0.033333\u001b[0m\n",
      "\u001b[34m[09:18:17] src/tree/updater_prune.cc:74: tree pruning end, 1 roots, 2 extra nodes, 0 pruned nodes, max_depth=1\u001b[0m\n",
      "\u001b[34m[09:18:17] src/tree/updater_prune.cc:74: tree pruning end, 1 roots, 2 extra nodes, 2 pruned nodes, max_depth=1\u001b[0m\n",
      "\u001b[34m[09:18:17] src/tree/updater_prune.cc:74: tree pruning end, 1 roots, 4 extra nodes, 2 pruned nodes, max_depth=2\u001b[0m\n",
      "\u001b[34m[7]#011train-merror:0.05#011validation-merror:0.033333\u001b[0m\n",
      "\u001b[34m[09:18:17] src/tree/updater_prune.cc:74: tree pruning end, 1 roots, 2 extra nodes, 0 pruned nodes, max_depth=1\u001b[0m\n",
      "\u001b[34m[09:18:17] src/tree/updater_prune.cc:74: tree pruning end, 1 roots, 2 extra nodes, 4 pruned nodes, max_depth=1\u001b[0m\n",
      "\u001b[34m[09:18:17] src/tree/updater_prune.cc:74: tree pruning end, 1 roots, 0 extra nodes, 6 pruned nodes, max_depth=0\u001b[0m\n",
      "\u001b[34m[8]#011train-merror:0.05#011validation-merror:0.033333\u001b[0m\n",
      "\u001b[34m[09:18:17] src/tree/updater_prune.cc:74: tree pruning end, 1 roots, 2 extra nodes, 0 pruned nodes, max_depth=1\u001b[0m\n",
      "\u001b[34m[09:18:17] src/tree/updater_prune.cc:74: tree pruning end, 1 roots, 2 extra nodes, 2 pruned nodes, max_depth=1\u001b[0m\n",
      "\u001b[34m[09:18:17] src/tree/updater_prune.cc:74: tree pruning end, 1 roots, 0 extra nodes, 6 pruned nodes, max_depth=0\u001b[0m\n",
      "\u001b[34m[9]#011train-merror:0.05#011validation-merror:0.033333\u001b[0m\n",
      "\n",
      "2024-10-26 09:18:35 Uploading - Uploading generated training model\n",
      "2024-10-26 09:18:35 Completed - Training job completed\n",
      "Training seconds: 125\n",
      "Billable seconds: 125\n"
     ]
    }
   ],
   "source": [
    "#refering to the directory containing the data\n",
    "train_data = 's3://{}/{}'.format(bucket_name, 'data/train')\n",
    "val_data = 's3://{}/{}'.format(bucket_name, 'data/val')\n",
    "\n",
    "train_channel = sagemaker.session.s3_input(train_data, content_type='text/csv')\n",
    "val_channel = sagemaker.session.s3_input(val_data, content_type='text/csv')\n",
    "\n",
    "data_channels = {'train': train_channel, 'validation': val_channel}\n",
    "\n",
    "xgb_model.fit(inputs=data_channels)"
   ]
  },
  {
   "cell_type": "markdown",
   "id": "1ef495ad",
   "metadata": {},
   "source": [
    "# deploy model "
   ]
  },
  {
   "cell_type": "code",
   "execution_count": 17,
   "id": "24b5c108",
   "metadata": {},
   "outputs": [
    {
     "name": "stderr",
     "output_type": "stream",
     "text": [
      "INFO:sagemaker:Creating model with name: xgboost-2024-10-26-09-30-44-780\n",
      "INFO:sagemaker:Creating endpoint-config with name xgboost-2024-10-26-09-30-44-780\n",
      "INFO:sagemaker:Creating endpoint with name xgboost-2024-10-26-09-30-44-780\n"
     ]
    },
    {
     "name": "stdout",
     "output_type": "stream",
     "text": [
      "------!"
     ]
    }
   ],
   "source": [
    "xgb_predictor = xgb_model.deploy(initial_instance_count=1,\n",
    "                                instance_type='ml.m4.xlarge')"
   ]
  },
  {
   "cell_type": "code",
   "execution_count": null,
   "id": "ebc86406",
   "metadata": {},
   "outputs": [],
   "source": []
  }
 ],
 "metadata": {
  "kernelspec": {
   "display_name": "conda_python3",
   "language": "python",
   "name": "conda_python3"
  },
  "language_info": {
   "codemirror_mode": {
    "name": "ipython",
    "version": 3
   },
   "file_extension": ".py",
   "mimetype": "text/x-python",
   "name": "python",
   "nbconvert_exporter": "python",
   "pygments_lexer": "ipython3",
   "version": "3.10.15"
  }
 },
 "nbformat": 4,
 "nbformat_minor": 5
}
